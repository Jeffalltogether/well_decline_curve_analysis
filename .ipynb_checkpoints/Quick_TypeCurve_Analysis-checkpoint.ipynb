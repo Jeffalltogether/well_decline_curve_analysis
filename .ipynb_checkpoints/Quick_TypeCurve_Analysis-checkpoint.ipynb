{
 "cells": [
  {
   "cell_type": "code",
   "execution_count": 1,
   "metadata": {
    "collapsed": false
   },
   "outputs": [
    {
     "data": {
      "text/html": [
       "<script>\n",
       "code_show=true; \n",
       "function code_toggle() {\n",
       " if (code_show){\n",
       " $('div.input').hide();\n",
       " } else {\n",
       " $('div.input').show();\n",
       " }\n",
       " code_show = !code_show\n",
       "} \n",
       "$( document ).ready(code_toggle);\n",
       "</script>\n",
       "<form action=\"javascript:code_toggle()\"><input type=\"submit\" value=\"Click here to toggle on/off the raw code.\"></form>"
      ],
      "text/plain": [
       "<IPython.core.display.HTML object>"
      ]
     },
     "execution_count": 1,
     "metadata": {},
     "output_type": "execute_result"
    }
   ],
   "source": [
    "from IPython.display import HTML\n",
    "\n",
    "HTML('''<script>\n",
    "code_show=true; \n",
    "function code_toggle() {\n",
    " if (code_show){\n",
    " $('div.input').hide();\n",
    " } else {\n",
    " $('div.input').show();\n",
    " }\n",
    " code_show = !code_show\n",
    "} \n",
    "$( document ).ready(code_toggle);\n",
    "</script>\n",
    "<form action=\"javascript:code_toggle()\"><input type=\"submit\" value=\"Click here to toggle on/off the raw code.\"></form>''')"
   ]
  },
  {
   "cell_type": "markdown",
   "metadata": {},
   "source": [
    "# Quick Type-curve Analysis"
   ]
  },
  {
   "cell_type": "code",
   "execution_count": 14,
   "metadata": {
    "collapsed": false
   },
   "outputs": [],
   "source": [
    "### Boiler-plate imports and code\n",
    "import os, sys\n",
    "sys.path.append('C:/Users/JeffPC2/Documents/Sync/PythonScripts/forJessica/utils/')\n",
    "import pandas as pd\n",
    "import numpy as np\n",
    "import matplotlib.pyplot as plt\n",
    "import datetime\n",
    "from ipywidgets import widgets, interact\n",
    "\n",
    "# import python module for type curve analysis\n",
    "# http://www.uky.edu/KGS/emsweb/devsh/production/decline_obj.py\n",
    "from decline import DeclineObj"
   ]
  },
  {
   "cell_type": "markdown",
   "metadata": {},
   "source": [
    "# Load well data"
   ]
  },
  {
   "cell_type": "code",
   "execution_count": 15,
   "metadata": {
    "collapsed": false
   },
   "outputs": [
    {
     "name": "stdout",
     "output_type": "stream",
     "text": [
      "103 wells available\n"
     ]
    }
   ],
   "source": [
    "# load header data\n",
    "headerDF = pd.read_csv('C:/Users/JeffPC2/Documents/Sync/PythonScripts/forJessica/Well_header_data.csv', dtype={'API/UWI': 'O'})\n",
    "headerDF['API/UWI'] = headerDF['API/UWI'].astype(object)\n",
    "\n",
    "# load time-series data\n",
    "timeSeriesDF = pd.read_csv('C:/Users/JeffPC2/Documents/Sync/PythonScripts/forJessica/Production_Time_Series.CSV', dtype={'API/UWI': 'O'})\n",
    "\n",
    "# drop unneeded columns\n",
    "timeSeriesDF = timeSeriesDF.drop(['Entity ID', 'API/UWI List', 'Days'], axis = 1)\n",
    "\n",
    "# convert production date to dtype date time and API to string\n",
    "timeSeriesDF['Production Date'] = pd.to_datetime(timeSeriesDF['Production Date'])\n",
    "timeSeriesDF['API/UWI'] = timeSeriesDF['API/UWI'].astype(object)\n",
    "\n",
    "# merge header data and timeseries data\n",
    "wellDF = pd.merge(timeSeriesDF, headerDF, on='API/UWI', how = 'right')\n",
    "wellDF['Production Date'] = pd.to_datetime(wellDF['Production Date'])\n",
    "wellDF['API/UWI'] = wellDF['API/UWI'].astype(object)\n",
    "\n",
    "print '%i wells available' %(len(set(wellDF['API/UWI'])))"
   ]
  },
  {
   "cell_type": "markdown",
   "metadata": {},
   "source": [
    "## Select desired wells based on search parameters (conditions)"
   ]
  },
  {
   "cell_type": "code",
   "execution_count": 20,
   "metadata": {
    "collapsed": false
   },
   "outputs": [
    {
     "name": "stdout",
     "output_type": "stream",
     "text": [
      "Operator Alias\n"
     ]
    }
   ],
   "source": [
    "global y\n",
    "# Select Variable name\n",
    "variables = list(wellDF.columns.values)\n",
    "# dropDown = widgets.Dropdown(\n",
    "#     options=variables,\n",
    "#     value=variables[0],\n",
    "#     description='Variable:',\n",
    "#     disabled=False,\n",
    "# )\n",
    "# y = variables[0]\n",
    "@interact(x = variables)\n",
    "def f(x):\n",
    "    global y\n",
    "    y = x\n",
    "    print x\n",
    "\n",
    "# Create input slider with default value = 10    \n",
    "# interact(f, x = variables)\n",
    "\n",
    "# # Display output variable in text box\n",
    "# output_slider_variable\n",
    "\n",
    "# # Create and output new int variable with value of slider\n",
    "# new_variable = output_slider_variable.value\n",
    "# print new_variable"
   ]
  },
  {
   "cell_type": "code",
   "execution_count": 23,
   "metadata": {
    "collapsed": false
   },
   "outputs": [
    {
     "name": "stdout",
     "output_type": "stream",
     "text": [
      "Operator Alias\n"
     ]
    }
   ],
   "source": [
    "print y"
   ]
  },
  {
   "cell_type": "markdown",
   "metadata": {},
   "source": [
    "## Select desired wells based on list of well 'API/UWI'"
   ]
  },
  {
   "cell_type": "markdown",
   "metadata": {},
   "source": [
    "## Generate time delta"
   ]
  },
  {
   "cell_type": "code",
   "execution_count": null,
   "metadata": {
    "collapsed": true
   },
   "outputs": [],
   "source": [
    "# generate new column with time delta rather than production date\n",
    "timeSeriesDF['Time Delta'] = '69 days 00:00:00'\n",
    "timeSeriesDF['Time Delta'] = pd.to_timedelta(timeSeriesDF['Time Delta'])\n",
    "\n",
    "for API in set(timeSeriesDF['API/UWI']):\n",
    "    # get peak production value\n",
    "    peakProduction = timeSeriesDF.loc[timeSeriesDF['API/UWI'] == API, 'Liquid (bbl)'].max()\n",
    "    #find date of peak production\n",
    "    startDate = timeSeriesDF.loc[(timeSeriesDF['API/UWI'] == API) & (timeSeriesDF['Liquid (bbl)'] == peakProduction), 'Production Date'].min()\n",
    "    #subtract this date from all production dates\n",
    "    delta = timeSeriesDF.loc[timeSeriesDF['API/UWI'] == API, 'Production Date'].sub(startDate)\n",
    "    # update the Time Delta column with this nuber\n",
    "    timeSeriesDF.loc[timeSeriesDF['API/UWI'] == API, 'Time Delta'] = delta\n",
    "\n",
    "    \n",
    "print list(timeSeriesDF.columns.values)\n",
    "print timeSeriesDF.dtypes\n",
    "timeSeriesDF"
   ]
  },
  {
   "cell_type": "markdown",
   "metadata": {},
   "source": [
    "## Load and summarize well header data"
   ]
  },
  {
   "cell_type": "code",
   "execution_count": 18,
   "metadata": {
    "collapsed": false
   },
   "outputs": [
    {
     "data": {
      "text/html": [
       "<div>\n",
       "<table border=\"1\" class=\"dataframe\">\n",
       "  <thead>\n",
       "    <tr style=\"text-align: right;\">\n",
       "      <th></th>\n",
       "      <th>Cum Gas</th>\n",
       "      <th>Cum Oil</th>\n",
       "      <th>Cum BOE</th>\n",
       "      <th>Cum MMCFGE</th>\n",
       "      <th>Cum BCFGE</th>\n",
       "      <th>Prac IP Oil Daily</th>\n",
       "      <th>Prac IP Gas Daily</th>\n",
       "      <th>Prac IP BOE</th>\n",
       "      <th>Latest Oil</th>\n",
       "      <th>Latest Gas</th>\n",
       "      <th>...</th>\n",
       "      <th>Months Produced</th>\n",
       "      <th>Measured Depth (TD)</th>\n",
       "      <th>Section</th>\n",
       "      <th>Township</th>\n",
       "      <th>Range</th>\n",
       "      <th>Surface Latitude (WGS84)</th>\n",
       "      <th>Surface Longitude (WGS84)</th>\n",
       "      <th>Last 12 Oil</th>\n",
       "      <th>Last 12 Gas</th>\n",
       "      <th>Entity ID</th>\n",
       "    </tr>\n",
       "  </thead>\n",
       "  <tbody>\n",
       "    <tr>\n",
       "      <th>count</th>\n",
       "      <td>1.030000e+02</td>\n",
       "      <td>1.030000e+02</td>\n",
       "      <td>1.030000e+02</td>\n",
       "      <td>103.000000</td>\n",
       "      <td>103.000000</td>\n",
       "      <td>103.000000</td>\n",
       "      <td>103.000000</td>\n",
       "      <td>103.000000</td>\n",
       "      <td>103.000000</td>\n",
       "      <td>103.000000</td>\n",
       "      <td>...</td>\n",
       "      <td>103.000000</td>\n",
       "      <td>103.000000</td>\n",
       "      <td>94.000000</td>\n",
       "      <td>103.0</td>\n",
       "      <td>103.0</td>\n",
       "      <td>103.000000</td>\n",
       "      <td>103.000000</td>\n",
       "      <td>103.00000</td>\n",
       "      <td>103.000000</td>\n",
       "      <td>1.030000e+02</td>\n",
       "    </tr>\n",
       "    <tr>\n",
       "      <th>mean</th>\n",
       "      <td>3.452721e+05</td>\n",
       "      <td>1.828309e+05</td>\n",
       "      <td>2.403762e+05</td>\n",
       "      <td>1442.252427</td>\n",
       "      <td>1.436893</td>\n",
       "      <td>717.825243</td>\n",
       "      <td>750.252427</td>\n",
       "      <td>842.844660</td>\n",
       "      <td>8661.582524</td>\n",
       "      <td>21416.310680</td>\n",
       "      <td>...</td>\n",
       "      <td>18.533981</td>\n",
       "      <td>17067.223301</td>\n",
       "      <td>73.659574</td>\n",
       "      <td>0.0</td>\n",
       "      <td>0.0</td>\n",
       "      <td>31.335665</td>\n",
       "      <td>-101.854848</td>\n",
       "      <td>94401.07767</td>\n",
       "      <td>193666.883495</td>\n",
       "      <td>1.003669e+08</td>\n",
       "    </tr>\n",
       "    <tr>\n",
       "      <th>std</th>\n",
       "      <td>3.447074e+05</td>\n",
       "      <td>1.569929e+05</td>\n",
       "      <td>2.094900e+05</td>\n",
       "      <td>1256.949667</td>\n",
       "      <td>1.296072</td>\n",
       "      <td>564.100523</td>\n",
       "      <td>607.723214</td>\n",
       "      <td>653.987119</td>\n",
       "      <td>9407.589519</td>\n",
       "      <td>24100.322708</td>\n",
       "      <td>...</td>\n",
       "      <td>10.219949</td>\n",
       "      <td>2422.913118</td>\n",
       "      <td>242.650355</td>\n",
       "      <td>0.0</td>\n",
       "      <td>0.0</td>\n",
       "      <td>0.089535</td>\n",
       "      <td>0.155331</td>\n",
       "      <td>94308.52780</td>\n",
       "      <td>181756.029371</td>\n",
       "      <td>2.737475e+07</td>\n",
       "    </tr>\n",
       "    <tr>\n",
       "      <th>min</th>\n",
       "      <td>1.893000e+03</td>\n",
       "      <td>3.702000e+03</td>\n",
       "      <td>4.018000e+03</td>\n",
       "      <td>24.000000</td>\n",
       "      <td>0.000000</td>\n",
       "      <td>0.000000</td>\n",
       "      <td>0.000000</td>\n",
       "      <td>0.000000</td>\n",
       "      <td>198.000000</td>\n",
       "      <td>329.000000</td>\n",
       "      <td>...</td>\n",
       "      <td>1.000000</td>\n",
       "      <td>9600.000000</td>\n",
       "      <td>1.000000</td>\n",
       "      <td>0.0</td>\n",
       "      <td>0.0</td>\n",
       "      <td>31.101234</td>\n",
       "      <td>-102.074540</td>\n",
       "      <td>3702.00000</td>\n",
       "      <td>1893.000000</td>\n",
       "      <td>-1.985660e+05</td>\n",
       "    </tr>\n",
       "    <tr>\n",
       "      <th>25%</th>\n",
       "      <td>1.240360e+05</td>\n",
       "      <td>7.525600e+04</td>\n",
       "      <td>9.583000e+04</td>\n",
       "      <td>574.500000</td>\n",
       "      <td>1.000000</td>\n",
       "      <td>359.000000</td>\n",
       "      <td>390.500000</td>\n",
       "      <td>417.500000</td>\n",
       "      <td>2478.000000</td>\n",
       "      <td>6453.500000</td>\n",
       "      <td>...</td>\n",
       "      <td>8.000000</td>\n",
       "      <td>15068.000000</td>\n",
       "      <td>8.000000</td>\n",
       "      <td>0.0</td>\n",
       "      <td>0.0</td>\n",
       "      <td>31.293525</td>\n",
       "      <td>-101.994863</td>\n",
       "      <td>29848.50000</td>\n",
       "      <td>68769.500000</td>\n",
       "      <td>1.073891e+08</td>\n",
       "    </tr>\n",
       "    <tr>\n",
       "      <th>50%</th>\n",
       "      <td>2.501590e+05</td>\n",
       "      <td>1.507020e+05</td>\n",
       "      <td>1.904590e+05</td>\n",
       "      <td>1143.000000</td>\n",
       "      <td>1.000000</td>\n",
       "      <td>596.000000</td>\n",
       "      <td>628.000000</td>\n",
       "      <td>720.000000</td>\n",
       "      <td>5465.000000</td>\n",
       "      <td>12696.000000</td>\n",
       "      <td>...</td>\n",
       "      <td>18.000000</td>\n",
       "      <td>16860.000000</td>\n",
       "      <td>18.500000</td>\n",
       "      <td>0.0</td>\n",
       "      <td>0.0</td>\n",
       "      <td>31.356946</td>\n",
       "      <td>-101.867555</td>\n",
       "      <td>64971.00000</td>\n",
       "      <td>145234.000000</td>\n",
       "      <td>1.074561e+08</td>\n",
       "    </tr>\n",
       "    <tr>\n",
       "      <th>75%</th>\n",
       "      <td>4.165095e+05</td>\n",
       "      <td>2.249450e+05</td>\n",
       "      <td>2.937165e+05</td>\n",
       "      <td>1762.000000</td>\n",
       "      <td>2.000000</td>\n",
       "      <td>826.000000</td>\n",
       "      <td>914.500000</td>\n",
       "      <td>929.500000</td>\n",
       "      <td>9785.500000</td>\n",
       "      <td>26275.500000</td>\n",
       "      <td>...</td>\n",
       "      <td>28.000000</td>\n",
       "      <td>19356.000000</td>\n",
       "      <td>32.250000</td>\n",
       "      <td>0.0</td>\n",
       "      <td>0.0</td>\n",
       "      <td>31.400515</td>\n",
       "      <td>-101.730202</td>\n",
       "      <td>121593.50000</td>\n",
       "      <td>239106.500000</td>\n",
       "      <td>1.075427e+08</td>\n",
       "    </tr>\n",
       "    <tr>\n",
       "      <th>max</th>\n",
       "      <td>1.977811e+06</td>\n",
       "      <td>1.022719e+06</td>\n",
       "      <td>1.326488e+06</td>\n",
       "      <td>7959.000000</td>\n",
       "      <td>8.000000</td>\n",
       "      <td>2925.000000</td>\n",
       "      <td>4209.000000</td>\n",
       "      <td>3364.000000</td>\n",
       "      <td>54886.000000</td>\n",
       "      <td>130698.000000</td>\n",
       "      <td>...</td>\n",
       "      <td>34.000000</td>\n",
       "      <td>20287.000000</td>\n",
       "      <td>1227.000000</td>\n",
       "      <td>0.0</td>\n",
       "      <td>0.0</td>\n",
       "      <td>31.447657</td>\n",
       "      <td>-101.501756</td>\n",
       "      <td>492263.00000</td>\n",
       "      <td>874876.000000</td>\n",
       "      <td>1.295728e+08</td>\n",
       "    </tr>\n",
       "  </tbody>\n",
       "</table>\n",
       "<p>8 rows × 32 columns</p>\n",
       "</div>"
      ],
      "text/plain": [
       "            Cum Gas       Cum Oil       Cum BOE   Cum MMCFGE   Cum BCFGE  \\\n",
       "count  1.030000e+02  1.030000e+02  1.030000e+02   103.000000  103.000000   \n",
       "mean   3.452721e+05  1.828309e+05  2.403762e+05  1442.252427    1.436893   \n",
       "std    3.447074e+05  1.569929e+05  2.094900e+05  1256.949667    1.296072   \n",
       "min    1.893000e+03  3.702000e+03  4.018000e+03    24.000000    0.000000   \n",
       "25%    1.240360e+05  7.525600e+04  9.583000e+04   574.500000    1.000000   \n",
       "50%    2.501590e+05  1.507020e+05  1.904590e+05  1143.000000    1.000000   \n",
       "75%    4.165095e+05  2.249450e+05  2.937165e+05  1762.000000    2.000000   \n",
       "max    1.977811e+06  1.022719e+06  1.326488e+06  7959.000000    8.000000   \n",
       "\n",
       "       Prac IP Oil Daily  Prac IP Gas Daily  Prac IP BOE    Latest Oil  \\\n",
       "count         103.000000         103.000000   103.000000    103.000000   \n",
       "mean          717.825243         750.252427   842.844660   8661.582524   \n",
       "std           564.100523         607.723214   653.987119   9407.589519   \n",
       "min             0.000000           0.000000     0.000000    198.000000   \n",
       "25%           359.000000         390.500000   417.500000   2478.000000   \n",
       "50%           596.000000         628.000000   720.000000   5465.000000   \n",
       "75%           826.000000         914.500000   929.500000   9785.500000   \n",
       "max          2925.000000        4209.000000  3364.000000  54886.000000   \n",
       "\n",
       "          Latest Gas      ...       Months Produced  Measured Depth (TD)  \\\n",
       "count     103.000000      ...            103.000000           103.000000   \n",
       "mean    21416.310680      ...             18.533981         17067.223301   \n",
       "std     24100.322708      ...             10.219949          2422.913118   \n",
       "min       329.000000      ...              1.000000          9600.000000   \n",
       "25%      6453.500000      ...              8.000000         15068.000000   \n",
       "50%     12696.000000      ...             18.000000         16860.000000   \n",
       "75%     26275.500000      ...             28.000000         19356.000000   \n",
       "max    130698.000000      ...             34.000000         20287.000000   \n",
       "\n",
       "           Section  Township  Range  Surface Latitude (WGS84)  \\\n",
       "count    94.000000     103.0  103.0                103.000000   \n",
       "mean     73.659574       0.0    0.0                 31.335665   \n",
       "std     242.650355       0.0    0.0                  0.089535   \n",
       "min       1.000000       0.0    0.0                 31.101234   \n",
       "25%       8.000000       0.0    0.0                 31.293525   \n",
       "50%      18.500000       0.0    0.0                 31.356946   \n",
       "75%      32.250000       0.0    0.0                 31.400515   \n",
       "max    1227.000000       0.0    0.0                 31.447657   \n",
       "\n",
       "       Surface Longitude (WGS84)   Last 12 Oil    Last 12 Gas     Entity ID  \n",
       "count                 103.000000     103.00000     103.000000  1.030000e+02  \n",
       "mean                 -101.854848   94401.07767  193666.883495  1.003669e+08  \n",
       "std                     0.155331   94308.52780  181756.029371  2.737475e+07  \n",
       "min                  -102.074540    3702.00000    1893.000000 -1.985660e+05  \n",
       "25%                  -101.994863   29848.50000   68769.500000  1.073891e+08  \n",
       "50%                  -101.867555   64971.00000  145234.000000  1.074561e+08  \n",
       "75%                  -101.730202  121593.50000  239106.500000  1.075427e+08  \n",
       "max                  -101.501756  492263.00000  874876.000000  1.295728e+08  \n",
       "\n",
       "[8 rows x 32 columns]"
      ]
     },
     "execution_count": 18,
     "metadata": {},
     "output_type": "execute_result"
    }
   ],
   "source": [
    "headerDF = pd.read_csv('C:/Users/JeffPC2/Documents/Sync/PythonScripts/forJessica/Well_header_data.csv')\n",
    "headerDF.drop(['API/UWI'], axis=1).describe()"
   ]
  },
  {
   "cell_type": "markdown",
   "metadata": {},
   "source": [
    "## plot time series data for all wells"
   ]
  },
  {
   "cell_type": "code",
   "execution_count": 12,
   "metadata": {
    "collapsed": false
   },
   "outputs": [
    {
     "data": {
      "image/png": "[encoded data removed]",
      "text/plain": [
       "<matplotlib.figure.Figure at 0x11bca470>"
      ]
     },
     "metadata": {},
     "output_type": "display_data"
    }
   ],
   "source": [
    "productionPlots = timeSeriesDF[['Time Delta', 'Liquid (bbl)']]\n",
    "\n",
    "fig, ax = plt.subplots(figsize = (12,8))\n",
    "for API in set(timeSeriesDF['API/UWI']):\n",
    "    plotData = timeSeriesDF.loc[timeSeriesDF['API/UWI'] == API, ['Time Delta', 'Liquid (bbl)']]\n",
    "    days = plotData['Time Delta'].dt.days\n",
    "    liquid = np.array(plotData['Liquid (bbl)'])\n",
    "    ax.semilogy(days, liquid, label = API)\n",
    "ax.set_xlabel('Time [Days]')\n",
    "ax.set_ylabel('Rate\\n[Liquid (bbl)]')\n",
    "plt.legend()\n",
    "plt.show()"
   ]
  },
  {
   "cell_type": "markdown",
   "metadata": {
    "collapsed": true
   },
   "source": [
    "# generate type curve\n",
    "### variables to estimate\n",
    "    qi, initial production -- 0 <= qi <= y.max() * 10\n",
    "    b, decline exponent -- 0.0001 <= b <= 5\n",
    "    di, nominal decline -- -1 <= di <= 1\n",
    "    \n",
    "x = numpy array of time period data (float), these data must\n",
    "    increase that is, for any time period T(t):\n",
    "\n",
    "        T(1) < T(t) < T(n) and\n",
    "        T(t-1) < T(t) < T(t+1)\n",
    "\n",
    "        x = array([0.0, 1.0, 2.0, ...]), or\n",
    "        x = array([1.0, 2.0, 3.0, ...]) useful for log-log plots\n",
    "\n",
    "        time periods may be missing (shut-in, etc)\n",
    "\n",
    "        x = array([0.0, 1.0, 2.0, 5.0, 6.0, ...])\n",
    "\n",
    "y = numpy array of production rate data (float)\n",
    "    (at time x[1], production rate is y[1], note also\n",
    "    that numpy array indices (any Python lists, etc.)\n",
    "    begin at 0)  \n",
    "  \n",
    "parameter_list = (optional) initial list of parameters\n",
    "    to hyperbolic decline in order: [qi, b, di]. If model\n",
    "    is forced to exponential, b is set to 0  \n",
    "  \n",
    "model = (optional) Force computation to use a particular model\n",
    "    model=None : (default) find the model with the best fit  \n",
    "    model='EXP': force exponential  \n",
    "    model='HYP': force hyperbolic  \n",
    "   \n",
    "method = (optional) specify which scipy.optimize method to use\n",
    "    method='TNC' (default) This is a constrained model meaning\n",
    "        boundary conditions are assumed for each of the inputs:\n",
    "            0<=qi<=5*max(production rate)  \n",
    "            0<b<=MAX_b (for hyperbolic b<>0)  \n",
    "            MIN_di<=di<=1  \n",
    "        see scipy.optimize.fmin_tnc()  \n",
    "    method='LSQ' This performs a least squares best fit using\n",
    "        scipy.optimize.leastsq() because this model is not\n",
    "        constrained, it may be that it will fit production\n",
    "        data that inclines over time better than fmin_tnc()  "
   ]
  },
  {
   "cell_type": "code",
   "execution_count": 13,
   "metadata": {
    "collapsed": false
   },
   "outputs": [
    {
     "name": "stdout",
     "output_type": "stream",
     "text": [
      "[  0  31  61  92 122 153 184 214 245 275 306 337 365 396 426 457 487 518\n",
      " 549 579]\n",
      "[ 23647.  22197.  22974.  18952.  17365.  15222.  13122.  12375.  11661.\n",
      "  10317.  10065.   9113.   5264.   6366.   9045.   7940.   7465.   6545.\n",
      "   6322.   6760.]\n",
      "HYP: qt = 25994.04*(1.0 - 1.000*(-0.005)*t)**(-1.0 / 1.000)\n",
      "r2=0.9308\n"
     ]
    },
    {
     "data": {
      "text/plain": [
       "('HYP', [25994.040847449389, 1.0, -0.0051748039592393047], 0.93081534040965885)"
      ]
     },
     "execution_count": 13,
     "metadata": {},
     "output_type": "execute_result"
    }
   ],
   "source": [
    "declineData = timeSeriesDF[timeSeriesDF['Time Delta'] >= '0 days']\n",
    "declineData = declineData.dropna()\n",
    "declineData = declineData.sort_values(['Time Delta'])\n",
    "days = declineData['Time Delta'].dt.days\n",
    "x = np.array(days)\n",
    "y = np.array(declineData['Liquid (bbl)'])\n",
    "print x\n",
    "print y\n",
    "ex3 = DeclineObj(x,y,[y.max(),3.5,-0.75], model='HYP')\n",
    "results = ex3(limits=[(0,y.max()*10.0),(1.0,4.0),(-0.99,-0.001)])\n",
    "print ex3._print_str()\n",
    "results"
   ]
  },
  {
   "cell_type": "code",
   "execution_count": 14,
   "metadata": {
    "collapsed": false
   },
   "outputs": [
    {
     "data": {
      "image/png": "[encoded data removed]",
      "text/plain": [
       "<matplotlib.figure.Figure at 0x11b7b4a8>"
      ]
     },
     "metadata": {},
     "output_type": "display_data"
    }
   ],
   "source": [
    "# Sample commands to plot the output (not run with standard doctest)\n",
    "\n",
    "import pylab\n",
    "qi, b, di = results[1]\n",
    "# di = results[2]\n",
    "title = 'Recno 115604: qi=%7.1f, b=%7.3f, di=%8.4f, r2=%8.4f' % (qi, b, di, results[-1])\n",
    "pylab.semilogy(x,y,'ro:',ex3.x_best,ex3.y_best,'b--')\n",
    "pylab.xlabel('Time (Days)')\n",
    "pylab.ylabel('Rate (bbl)')\n",
    "pylab.legend(['Data','Best fit'])\n",
    "pylab.grid(True)\n",
    "pylab.title(title)\n",
    "pylab.show()"
   ]
  },
  {
   "cell_type": "code",
   "execution_count": null,
   "metadata": {
    "collapsed": true
   },
   "outputs": [],
   "source": []
  }
 ],
 "metadata": {
  "anaconda-cloud": {},
  "kernelspec": {
   "display_name": "Python [conda env:py27]",
   "language": "python",
   "name": "conda-env-py27-py"
  },
  "language_info": {
   "codemirror_mode": {
    "name": "ipython",
    "version": 2
   },
   "file_extension": ".py",
   "mimetype": "text/x-python",
   "name": "python",
   "nbconvert_exporter": "python",
   "pygments_lexer": "ipython2",
   "version": "2.7.12"
  },
  "widgets": {
   "state": {
    "18f3f3727ac144eead0b62d4ee211254": {
     "views": [
      {
       "cell_index": 6
      }
     ]
    },
    "cd11382619164c23bdc501f0f0121b46": {
     "views": [
      {
       "cell_index": 6
      }
     ]
    },
    "e66c1d2ef1d04462a775fad318959b60": {
     "views": [
      {
       "cell_index": 6
      }
     ]
    }
   },
   "version": "1.2.0"
  }
 },
 "nbformat": 4,
 "nbformat_minor": 1
}
